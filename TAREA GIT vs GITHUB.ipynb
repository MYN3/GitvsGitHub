{
 "cells": [
  {
   "attachments": {},
   "cell_type": "markdown",
   "metadata": {},
   "source": [
    "# Control de versiones GIT\n",
    "\n",
    "## El uso de control de versiones en el desarrollo de software. \n",
    "\n",
    "El control de versiones es de gran ayuda al desarrollo colaborativo de software y mantener un registro de cambios en el código a lo largo del tiempo. Existen varias herramientas que pueden ser utilizadas para el control de versiones en este caso se especifica el software standard o por defecto que es **GIT**, ya que se púeden integrar otras herramientas como lo son [**GITHUB**](https://github.com\n",
    "\"GITHUB\"), [**BITBUCKET**](https://bitbucket.org/\n",
    "\"BITBUCKET\") y [**GITLAB**](https://about.gitlab.com/\n",
    "\"GITLAB\")  los cuales ayudan a que el desarrollo sea mucho mas eficiente y colaborativo.\n",
    "\n",
    "**GIT** tiene un modelo de datos que permite mantener el historial y permitir la colaboración, mantiene un historial grafico lo que ayuda a entender la sintaxis del versionamiento basado en un modelo de arbol. y las ramas se pueden interpretar como versiones en paralelo que empiezan a dividirse desde una version especifica, esto con el fin de desarrollar cambios de forma separada y no interferir o sobreescribir codigo ya establecido o funcional.\n",
    "\n",
    "> **Nota**\n",
    ">\n",
    ">cada rama es idenpendiente de otra, estas ramas posteriormente pueden ser fusionadas a otras ramas y de esta fusion generar una nueva.\n",
    ">\n",
    "\n",
    "\n",
    "<img  src=\"https://kinsta.com/es/wp-content/uploads/sites/8/2022/01/git-para-desarrollo-web-1024x512.jpeg\" width=450px>\n",
    "\n"
   ]
  },
  {
   "attachments": {},
   "cell_type": "markdown",
   "metadata": {},
   "source": [
    "## Commits\n",
    "\n",
    "Un commit es una confirmación de cambios o modificaciones en el proyecto o código de software, cada commit lleva una breve descripción de las modificaciones que fueron realizadas y el nombre del usuario quien creo el commit. \n",
    "\n",
    "Basicamente contiene el registro de modificaciones, creacion y eliminacion de lineas en un archivo o un conjunto de archivos. cada commit puede ser identificado como una referencia por un código al cual se le conoce como **HASH** de tipo **SHA-1** y tiene la siguiente estructura : \n",
    "> **Ejemplo**\n",
    ">\n",
    ">_698281bc680d1995c5f4caaf3359721a5a58d48d_\n",
    ">\n",
    "\n"
   ]
  },
  {
   "attachments": {},
   "cell_type": "markdown",
   "metadata": {},
   "source": [
    "## Repositorios\n",
    "\n",
    "Es un lugar centralizado para almacenar y controlar la versión de un proyecto o código de software, y es muy importante para la colaboración y el control de versiones en el desarrollo de software.\n",
    "\n",
    "<img src=\"https://www.perforce.com/sites/default/files/image/2018-08/image-blog-managing-projects-across-git-repositories.jpg\" width=450px>\n",
    "\n"
   ]
  },
  {
   "attachments": {},
   "cell_type": "markdown",
   "metadata": {},
   "source": [
    "## Ejemplos\n",
    "- Comandos de ayuda\n",
    "- Inicialización de un repositorio\n",
    "- Realizar cambios\n",
    "- Verificar cambios\n",
    "- Confirmar cambios\n",
    "- Subir cambios\n",
    "- Visualizar listado de commits"
   ]
  },
  {
   "attachments": {},
   "cell_type": "markdown",
   "metadata": {},
   "source": [
    "## Comandos de ayuda\n",
    "Comando que ayuda a listar los posibles comandos que se pueden utilizar en git y de la misma forma explica la función principal de cada comando\n",
    "1. 'git' (comando para verificar la instalación de git y para saber la versión que se tiene instalada)\n",
    "2. 'git help <comando>' (comando para visualizar la funcion de la función anteponiendo el comando 'help')"
   ]
  },
  {
   "cell_type": "code",
   "execution_count": null,
   "metadata": {},
   "outputs": [],
   "source": [
    "%%cmd\n",
    "git"
   ]
  },
  {
   "cell_type": "code",
   "execution_count": null,
   "metadata": {},
   "outputs": [],
   "source": [
    "%%cmd\n",
    "git help init"
   ]
  },
  {
   "attachments": {},
   "cell_type": "markdown",
   "metadata": {},
   "source": [
    "# Inicialización de un repositorio\n",
    "Configuración principal para la creación de un repositorio en git, tambien se crea el archivo **.gitignore** este archivo permite especificar que archivos o directorios deben ser ignorados por git y no seguirse en el repositorio de git. en este caso se realizara el repositorio en  [**GITHUB**](https://github.com\n",
    "\"GITHUB\")\n"
   ]
  },
  {
   "cell_type": "code",
   "execution_count": null,
   "metadata": {},
   "outputs": [],
   "source": [
    "%%cmd\n",
    "git init"
   ]
  },
  {
   "cell_type": "markdown",
   "metadata": {},
   "source": []
  },
  {
   "attachments": {},
   "cell_type": "markdown",
   "metadata": {},
   "source": [
    "# Area de staging\n",
    "El area de staging es donde se encuentran almacenados los cambios del proyecto o codigo de software, lo que quiere decir que son los cambios listos antes de confirmar para subirlos y establecerlos como una nueva version del proyecto.\n",
    "1. **'git status'** Se mostrará una lista de los archivos que han sido modificados o agregados, y también se indicará si estos archivos están preparados para ser incluidos en una confirmación (commit) o si deben ser agregados con el comando \"git add\".\n",
    "2. **'git add'**' permite agregar uno o más archivos específicos a una confirmación (commit).\n",
    "2. **'git add .'**' permite agregar todos los archivos modificados a una confirmación (commit)."
   ]
  },
  {
   "cell_type": "code",
   "execution_count": null,
   "metadata": {},
   "outputs": [],
   "source": [
    "%%cmd\n",
    "git status"
   ]
  },
  {
   "cell_type": "code",
   "execution_count": null,
   "metadata": {},
   "outputs": [],
   "source": [
    "%%cmd\n",
    "git add ."
   ]
  },
  {
   "attachments": {},
   "cell_type": "markdown",
   "metadata": {},
   "source": [
    "# Confirmación de cambios\n",
    "Después de tener listos los cambios que se desean subir como confirmación (commit) y establecer una nueva versión del proyecto, se debe de realizar con el commando de **git commit -m 'mensaje'**, donde 'mensaje' debera ser una breve descripcioón sobre la modificación de los archivos o cambios realizados. "
   ]
  },
  {
   "cell_type": "code",
   "execution_count": null,
   "metadata": {},
   "outputs": [],
   "source": [
    "%%cmd\n",
    "git commit -m \"publicación de tarea 1 de data science\""
   ]
  },
  {
   "attachments": {},
   "cell_type": "markdown",
   "metadata": {},
   "source": [
    "# Publicación de cambios\n",
    "Se envían los cambios desde el repositorio local, incluyendo las nuevas confirmaciones (commits) y modificaciones de los archivos, al repositorio remoto.\n",
    "esto se logra ejecutando el comando **git push**, el cual solo enviará los cambios que han sido previamente preparados por los comandos anteriores (git add y git commit)"
   ]
  },
  {
   "cell_type": "code",
   "execution_count": null,
   "metadata": {},
   "outputs": [],
   "source": [
    "%%cmd\n",
    "git push"
   ]
  }
 ],
 "metadata": {
  "kernelspec": {
   "display_name": "prueba",
   "language": "python",
   "name": "python3"
  },
  "language_info": {
   "codemirror_mode": {
    "name": "ipython",
    "version": 3
   },
   "file_extension": ".py",
   "mimetype": "text/x-python",
   "name": "python",
   "nbconvert_exporter": "python",
   "pygments_lexer": "ipython3",
   "version": "3.8.16"
  },
  "orig_nbformat": 4,
  "vscode": {
   "interpreter": {
    "hash": "1c010a6efedcb986e34d325bb55a0ad183b0c5bb68953836495ca0057c8d0445"
   }
  }
 },
 "nbformat": 4,
 "nbformat_minor": 2
}
